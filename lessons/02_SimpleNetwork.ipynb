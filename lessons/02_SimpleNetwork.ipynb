{
 "cells": [
  {
   "cell_type": "code",
   "execution_count": 1,
   "id": "669d93b0",
   "metadata": {},
   "outputs": [],
   "source": [
    "import numpy as np\n",
    "\n",
    "class SimpleNeuralNetwork:\n",
    "    def __init__(self):\n",
    "        # Predefined weights and biases\n",
    "        # Input to hidden layer weights\n",
    "        self.weights_input_hidden = np.array([\n",
    "            [0.5, 0.9],  # weights to h1 (from x1, x2)\n",
    "            [0.3, 0.1]   # weights to h2 (from x1, x2)\n",
    "        ])\n",
    "        \n",
    "        # Hidden layer biases\n",
    "        self.biases_hidden = np.array([0.2, -0.1])\n",
    "        \n",
    "        # Hidden to output layer weights\n",
    "        self.weights_hidden_output = np.array([\n",
    "            [0.8, 0.6],  # weights to y1 (from h1, h2)\n",
    "            [0.4, 0.2]   # weights to y2 (from h1, h2)\n",
    "        ])\n",
    "        \n",
    "        # Output layer biases\n",
    "        self.biases_output = np.array([0.3, 0.5])\n",
    "    \n",
    "    def sigmoid(self, x):\n",
    "        return 1 / (1 + np.exp(-x))\n",
    "    \n",
    "    def forward(self, inputs):\n",
    "        # Calculate hidden layer values\n",
    "        hidden_inputs = np.dot(self.weights_input_hidden, inputs) + self.biases_hidden\n",
    "        hidden_outputs = self.sigmoid(hidden_inputs)\n",
    "        \n",
    "        # Calculate output layer values\n",
    "        final_inputs = np.dot(self.weights_hidden_output, hidden_outputs) + self.biases_output\n",
    "        final_outputs = self.sigmoid(final_inputs)\n",
    "        \n",
    "        # Return all values for transparency\n",
    "        return {\n",
    "            'inputs': inputs,\n",
    "            'hidden_inputs': hidden_inputs,\n",
    "            'hidden_outputs': hidden_outputs,\n",
    "            'final_inputs': final_inputs,\n",
    "            'final_outputs': final_outputs\n",
    "        }\n",
    "\n"
   ]
  },
  {
   "cell_type": "code",
   "execution_count": 2,
   "id": "340617c0",
   "metadata": {},
   "outputs": [
    {
     "name": "stdout",
     "output_type": "stream",
     "text": [
      "Network Calculations:\n",
      "Input values: x₁ = 0.1, x₂ = 0.7\n",
      "\n",
      "Hidden Layer Calculations:\n",
      "h₁_input = (0.5 × 0.1) + (0.9 × 0.7) + 0.2 = 0.8800000000000001\n",
      "h₁ = sigmoid(0.8800000000000001) = 0.7068222210935676\n",
      "h₂_input = (0.3 × 0.1) + (0.1 × 0.7) + (-0.1) = -1.3877787807814457e-17\n",
      "h₂ = sigmoid(-1.3877787807814457e-17) = 0.5\n",
      "\n",
      "Output Layer Calculations:\n",
      "y₁_input = (0.8 × 0.7068222210935676) + (0.6 × 0.5) + 0.3 = 1.1654577768748542\n",
      "y₁ = sigmoid(1.1654577768748542) = 0.762323006441065\n",
      "y₂_input = (0.4 × 0.7068222210935676) + (0.2 × 0.5) + 0.5 = 0.8827288884374271\n",
      "y₂ = sigmoid(0.8827288884374271) = 0.7073873944918476\n",
      "\n",
      "Final Output:\n",
      "y₁ = 0.762323006441065\n",
      "y₂ = 0.7073873944918476\n"
     ]
    }
   ],
   "source": [
    "\n",
    "# Create neural network with predefined weights\n",
    "nn = SimpleNeuralNetwork()\n",
    "\n",
    "# Test with sample input\n",
    "sample_input = np.array([0.1, 0.7])\n",
    "results = nn.forward(sample_input)\n",
    "\n",
    "# Display all calculations explicitly\n",
    "print(\"Network Calculations:\")\n",
    "print(f\"Input values: x₁ = {sample_input[0]}, x₂ = {sample_input[1]}\")\n",
    "\n",
    "print(\"\\nHidden Layer Calculations:\")\n",
    "print(f\"h₁_input = (0.5 × {sample_input[0]}) + (0.9 × {sample_input[1]}) + 0.2 = {results['hidden_inputs'][0]}\")\n",
    "print(f\"h₁ = sigmoid({results['hidden_inputs'][0]}) = {results['hidden_outputs'][0]}\")\n",
    "print(f\"h₂_input = (0.3 × {sample_input[0]}) + (0.1 × {sample_input[1]}) + (-0.1) = {results['hidden_inputs'][1]}\")\n",
    "print(f\"h₂ = sigmoid({results['hidden_inputs'][1]}) = {results['hidden_outputs'][1]}\")\n",
    "\n",
    "print(\"\\nOutput Layer Calculations:\")\n",
    "print(f\"y₁_input = (0.8 × {results['hidden_outputs'][0]}) + (0.6 × {results['hidden_outputs'][1]}) + 0.3 = {results['final_inputs'][0]}\")\n",
    "print(f\"y₁ = sigmoid({results['final_inputs'][0]}) = {results['final_outputs'][0]}\")\n",
    "print(f\"y₂_input = (0.4 × {results['hidden_outputs'][0]}) + (0.2 × {results['hidden_outputs'][1]}) + 0.5 = {results['final_inputs'][1]}\")\n",
    "print(f\"y₂ = sigmoid({results['final_inputs'][1]}) = {results['final_outputs'][1]}\")\n",
    "\n",
    "print(\"\\nFinal Output:\")\n",
    "print(f\"y₁ = {results['final_outputs'][0]}\")\n",
    "print(f\"y₂ = {results['final_outputs'][1]}\")"
   ]
  },
  {
   "cell_type": "code",
   "execution_count": null,
   "id": "a79fd405",
   "metadata": {},
   "outputs": [],
   "source": []
  },
  {
   "cell_type": "code",
   "execution_count": null,
   "id": "8bd779e7",
   "metadata": {},
   "outputs": [],
   "source": []
  },
  {
   "cell_type": "code",
   "execution_count": null,
   "id": "2acc0be6",
   "metadata": {},
   "outputs": [],
   "source": []
  },
  {
   "cell_type": "markdown",
   "id": "714d4131",
   "metadata": {},
   "source": [
    "<div style=\"text-align:center\">\n",
    "    <img src=\"../docs/assets/neural-network-diagram.svg\" alt=\"Neural Network Diagram\" width=\"800\">\n",
    "</div>\n",
    "\n",
    "\n",
    "$$h_1 = \\sigma(w_{11} \\cdot x_1 + w_{21} \\cdot x_2 + b_1) = \\sigma(0.5 \\cdot x_1 + 0.9 \\cdot x_2 + 0.2)$$\n",
    "\n",
    "$$\\sigma(z) = \\frac{1}{1 + e^{-z}}$$\n",
    "\n",
    "$$y_1 = \\sigma(v_{11} \\cdot h_1 + v_{21} \\cdot h_2 + c_1) = \\sigma(0.8 \\cdot h_1 + 0.6 \\cdot h_2 + 0.3)$$"
   ]
  },
  {
   "cell_type": "markdown",
   "id": "08b63f58",
   "metadata": {},
   "source": []
  }
 ],
 "metadata": {
  "kernelspec": {
   "display_name": "Python 3",
   "language": "python",
   "name": "python3"
  },
  "language_info": {
   "codemirror_mode": {
    "name": "ipython",
    "version": 3
   },
   "file_extension": ".py",
   "mimetype": "text/x-python",
   "name": "python",
   "nbconvert_exporter": "python",
   "pygments_lexer": "ipython3",
   "version": "3.12.10"
  }
 },
 "nbformat": 4,
 "nbformat_minor": 5
}

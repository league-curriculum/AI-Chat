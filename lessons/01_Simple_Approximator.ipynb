{
 "cells": [
  {
   "cell_type": "code",
   "execution_count": null,
   "metadata": {},
   "outputs": [
    {
     "name": "stdout",
     "output_type": "stream",
     "text": [
      "[0.99993704]\n"
     ]
    }
   ],
   "source": [
    "from numpy import exp, array, random, dot\n",
    "\n",
    "# Define the training set inputs and outputs\n",
    "training_set_inputs = array([[0, 0, 1], [1, 1, 1], [1, 0, 1], [0, 1, 1]])\n",
    "training_set_outputs = array([[0, 1, 1, 0]]).T\n",
    "\n",
    "# Seed the random number generator for reproducibility\n",
    "random.seed(1)\n",
    "\n",
    "# Initialize synaptic weights randomly with mean 0\n",
    "synaptic_weights = 2 * random.random((3, 1)) - 1\n",
    "\n",
    "# Train the neural network\n",
    "for iteration in range(10000):\n",
    "    # Calculate the output using the sigmoid function\n",
    "    output = 1 / (1 + exp(-(dot(training_set_inputs, synaptic_weights))))\n",
    "\n",
    "    # Adjust weights using gradient descent\n",
    "    synaptic_weights += dot(training_set_inputs.T, (training_set_outputs - output) * output * (1 - output))\n",
    "\n",
    "# Test the neural network with a new situation\n",
    "test_input = array([1, 0, 0])\n",
    "test_output = 1 / (1 + exp(-(dot(test_input, synaptic_weights))))\n",
    "print(f\"Test input: {test_input}, Predicted output: {test_output}\")"
   ]
  },
  {
   "cell_type": "code",
   "execution_count": 53,
   "metadata": {},
   "outputs": [
    {
     "name": "stdout",
     "output_type": "stream",
     "text": [
      "Epoch [1000/50000], Loss: 0.003903\n",
      "Epoch [2000/50000], Loss: 0.003891\n",
      "Epoch [3000/50000], Loss: 0.003890\n",
      "Epoch [4000/50000], Loss: 0.003889\n",
      "Epoch [5000/50000], Loss: 0.003873\n",
      "Epoch [6000/50000], Loss: 0.003440\n",
      "Epoch [7000/50000], Loss: 0.002521\n",
      "Epoch [8000/50000], Loss: 0.001162\n",
      "Epoch [9000/50000], Loss: 0.000518\n",
      "Epoch [10000/50000], Loss: 0.000398\n",
      "Epoch [11000/50000], Loss: 0.000287\n",
      "Epoch [12000/50000], Loss: 0.000250\n",
      "Epoch [13000/50000], Loss: 0.000202\n",
      "Epoch [14000/50000], Loss: 0.000183\n",
      "Epoch [15000/50000], Loss: 0.000141\n",
      "Epoch [16000/50000], Loss: 0.000123\n",
      "Epoch [17000/50000], Loss: 0.000123\n",
      "Epoch [18000/50000], Loss: 0.000122\n",
      "Epoch [19000/50000], Loss: 0.000122\n",
      "Epoch [20000/50000], Loss: 0.000122\n",
      "Epoch [21000/50000], Loss: 0.000107\n",
      "Epoch [22000/50000], Loss: 0.000107\n",
      "Epoch [23000/50000], Loss: 0.000107\n",
      "Epoch [24000/50000], Loss: 0.000107\n",
      "Epoch [25000/50000], Loss: 0.000107\n",
      "Early stopping at epoch 25541, Loss: 0.000099\n",
      "Encoded representations:\n",
      "tensor([[9.9645e-01, 2.4882e-01, 4.2252e-03,  ..., 2.2563e-01, 3.0918e-03,\n",
      "         9.9024e-01],\n",
      "        [3.3789e-03, 9.9535e-01, 5.5267e-03,  ..., 7.9090e-03, 9.9641e-01,\n",
      "         4.3561e-01],\n",
      "        [9.9704e-01, 9.9316e-01, 6.4671e-04,  ..., 9.9904e-01, 9.9449e-01,\n",
      "         6.7568e-04],\n",
      "        ...,\n",
      "        [9.9861e-01, 2.0838e-03, 9.9823e-01,  ..., 8.5184e-02, 7.4736e-01,\n",
      "         9.7983e-03],\n",
      "        [2.9762e-03, 9.9487e-01, 9.9642e-01,  ..., 9.9885e-01, 9.9842e-01,\n",
      "         9.9834e-01],\n",
      "        [2.8998e-03, 9.9621e-01, 1.6719e-02,  ..., 4.3495e-03, 9.9814e-01,\n",
      "         9.9849e-01]])\n",
      "  0 ++++++++++++++++++++++++++++++++\n",
      " 32 ++++++++ ++++++++++ ++++++++++++\n",
      " 64 ++++++++++++++++++++ +++++++++++\n",
      " 96 ++++++++++++++++++++++++ +++++++\n",
      "128 ++++++++++++++++++++++++++++++++\n",
      "160 ++++++++++++++++++++++++ +++++++\n",
      "192 ++++++++++++++++++++++++++++++++\n",
      "224 ++++++++++++++++ +++++++++++++++\n",
      "256 \n",
      "Good: 250 / 256\n"
     ]
    }
   ],
   "source": [
    "import torch\n",
    "import torch.nn as nn\n",
    "import torch.optim as optim\n",
    "\n",
    "# Define the autoencoder\n",
    "class Autoencoder(nn.Module):\n",
    "    def __init__(self):\n",
    "        super(Autoencoder, self).__init__()\n",
    "        self.encoder = nn.Sequential(\n",
    "            nn.Linear(256, 12),\n",
    "            nn.Sigmoid()\n",
    "        )\n",
    "        self.decoder = nn.Sequential(\n",
    "            nn.Linear(12, 256),\n",
    "            nn.Sigmoid()\n",
    "        )\n",
    "\n",
    "    def forward(self, x):\n",
    "        encoded = self.encoder(x)\n",
    "        decoded = self.decoder(encoded)\n",
    "        return encoded, decoded\n",
    "\n",
    "# Prepare the dataset (normalize to [0, 1] for Sigmoid activation)\n",
    "data = torch.eye(256) # * 0.99 + 0.01\n",
    "\n",
    "# Initialize the model, loss function, and optimizer\n",
    "model = Autoencoder()\n",
    "criterion = nn.MSELoss()\n",
    "optimizer = optim.Adam(model.parameters(), lr=0.01)\n",
    "\n",
    "# Train the autoencoder\n",
    "epochs = 50000\n",
    "for epoch in range(epochs):\n",
    "    optimizer.zero_grad()\n",
    "    encoded, decoded = model(data)\n",
    "    loss = criterion(decoded, data)\n",
    "    loss.backward()\n",
    "    optimizer.step()\n",
    "\n",
    "    if loss.item() < 0.0001:\n",
    "        print(f\"Early stopping at epoch {epoch + 1}, Loss: {loss.item():.6f}\")\n",
    "        break\n",
    "\n",
    "    if (epoch + 1) % 1000 == 0:\n",
    "        print(f\"Epoch [{epoch + 1}/{epochs}], Loss: {loss.item():.6f}\")\n",
    "\n",
    "# Inspect the middle layer (encoded representation)\n",
    "with torch.no_grad():\n",
    "    encoded, _ = model(data)\n",
    "    print(\"Encoded representations:\")\n",
    "    print(encoded)\n",
    "    \n",
    "# Demonstrate the operation of the encoder\n",
    "with torch.no_grad():\n",
    "    good = 0\n",
    "    print('  0', end=' ')\n",
    "    for i in range(256):  # Show the first 10 one-hot encoded numbers\n",
    "        input_vector = data[i].unsqueeze(0)  # Select one-hot encoded vector\n",
    "        enc, dec = model(input_vector)  # Pass through the encoder\n",
    "       \n",
    "        out = dec.numpy().argmax()\n",
    "        \n",
    "        \n",
    "        if i == out:\n",
    "            good += 1\n",
    "            print('+', end='')\n",
    "        else:\n",
    "            print(' ', end='')\n",
    "       \n",
    "        if (i+1)  % 32 == 0:\n",
    "            print(f'\\n{i+1:3d} ', end='')\n",
    "       \n",
    "    print(f'\\nGood: {good} / 256')\n",
    "    "
   ]
  },
  {
   "cell_type": "code",
   "execution_count": 54,
   "metadata": {},
   "outputs": [
    {
     "data": {
      "text/plain": [
       "[0, 0, 1, 1, 0, 1, 1, 0, 0, 1, 1, 0]"
      ]
     },
     "execution_count": 54,
     "metadata": {},
     "output_type": "execute_result"
    }
   ],
   "source": [
    "i =  200\n",
    "input_vector = data[i].unsqueeze(0)  # Select one-hot encoded vector\n",
    "enc, dec = model(input_vector)  # Pass through the encoder\n",
    "\n",
    "with torch.no_grad():\n",
    "    enc = enc.numpy()\n",
    "\n",
    "[ round(e) for e in enc[0]]"
   ]
  },
  {
   "cell_type": "code",
   "execution_count": null,
   "metadata": {},
   "outputs": [],
   "source": []
  },
  {
   "cell_type": "code",
   "execution_count": null,
   "metadata": {},
   "outputs": [],
   "source": []
  }
 ],
 "metadata": {
  "kernelspec": {
   "display_name": "Python 3",
   "language": "python",
   "name": "python3"
  },
  "language_info": {
   "codemirror_mode": {
    "name": "ipython",
    "version": 3
   },
   "file_extension": ".py",
   "mimetype": "text/x-python",
   "name": "python",
   "nbconvert_exporter": "python",
   "pygments_lexer": "ipython3",
   "version": "3.12.10"
  }
 },
 "nbformat": 4,
 "nbformat_minor": 2
}
